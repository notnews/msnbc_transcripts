{
 "cells": [
  {
   "cell_type": "code",
   "execution_count": 6,
   "id": "3dba1d4b-a610-43cc-9c7e-d0f70b507c28",
   "metadata": {},
   "outputs": [],
   "source": [
    "import pandas as pd"
   ]
  },
  {
   "cell_type": "code",
   "execution_count": 7,
   "id": "135ed755-219a-45c3-86dc-8d071c6bf637",
   "metadata": {},
   "outputs": [
    {
     "data": {
      "text/html": [
       "<div>\n",
       "<style scoped>\n",
       "    .dataframe tbody tr th:only-of-type {\n",
       "        vertical-align: middle;\n",
       "    }\n",
       "\n",
       "    .dataframe tbody tr th {\n",
       "        vertical-align: top;\n",
       "    }\n",
       "\n",
       "    .dataframe thead th {\n",
       "        text-align: right;\n",
       "    }\n",
       "</style>\n",
       "<table border=\"1\" class=\"dataframe\">\n",
       "  <thead>\n",
       "    <tr style=\"text-align: right;\">\n",
       "      <th></th>\n",
       "      <th>air_date</th>\n",
       "      <th>show_name</th>\n",
       "      <th>headline</th>\n",
       "      <th>guests</th>\n",
       "      <th>url</th>\n",
       "      <th>channel.name</th>\n",
       "      <th>program.name</th>\n",
       "      <th>uid</th>\n",
       "      <th>duration</th>\n",
       "      <th>year</th>\n",
       "      <th>month</th>\n",
       "      <th>date</th>\n",
       "      <th>time</th>\n",
       "      <th>timezone</th>\n",
       "      <th>path</th>\n",
       "      <th>wordcount</th>\n",
       "      <th>subhead</th>\n",
       "      <th>summary</th>\n",
       "      <th>text</th>\n",
       "    </tr>\n",
       "  </thead>\n",
       "  <tbody>\n",
       "    <tr>\n",
       "      <th>0</th>\n",
       "      <td>Apr 30 2017</td>\n",
       "      <td>Unnamed Show</td>\n",
       "      <td>Meet the Press - April 30, 2017</td>\n",
       "      <td>Vice President Mike Pence, Sen. Susan Collins,...</td>\n",
       "      <td>https://www.nbcnews.com/meet-the-press/meet-pr...</td>\n",
       "      <td>MSNBC</td>\n",
       "      <td>Meet the Press - April 30, 2017</td>\n",
       "      <td>meet-press-april-30-2017-n753011</td>\n",
       "      <td>NaN</td>\n",
       "      <td>2017</td>\n",
       "      <td>4</td>\n",
       "      <td>30</td>\n",
       "      <td>00:00</td>\n",
       "      <td>UTC</td>\n",
       "      <td>NaN</td>\n",
       "      <td>8974</td>\n",
       "      <td>NaN</td>\n",
       "      <td>NaN</td>\n",
       "      <td>NBC News - Meet The Press\"04.30.17\"(BEGIN TAPE...</td>\n",
       "    </tr>\n",
       "    <tr>\n",
       "      <th>1</th>\n",
       "      <td>Aug 10 2020</td>\n",
       "      <td>The Beat with Ari Melber</td>\n",
       "      <td>Transcript: The Beat with Ari Melber, August 1...</td>\n",
       "      <td>Guests: Adam Schiff, David Frum</td>\n",
       "      <td>https://www.msnbc.com/transcripts/transcript-b...</td>\n",
       "      <td>MSNBC</td>\n",
       "      <td>Transcript: The Beat with Ari Melber, August 1...</td>\n",
       "      <td>transcript-beat-ari-melber-august-10-2020-n125...</td>\n",
       "      <td>NaN</td>\n",
       "      <td>2020</td>\n",
       "      <td>8</td>\n",
       "      <td>10</td>\n",
       "      <td>00:00</td>\n",
       "      <td>UTC</td>\n",
       "      <td>NaN</td>\n",
       "      <td>10438</td>\n",
       "      <td>NaN</td>\n",
       "      <td>NaN</td>\n",
       "      <td>SummaryPresident Trump is escorted from a pres...</td>\n",
       "    </tr>\n",
       "    <tr>\n",
       "      <th>2</th>\n",
       "      <td>Aug 10 2020</td>\n",
       "      <td>The ReidOut</td>\n",
       "      <td>Transcript: The ReidOut, August 10, 2020</td>\n",
       "      <td>Guests: Philip Rucker, Nancy Pelosi, Sherrod B...</td>\n",
       "      <td>https://www.msnbc.com/transcripts/transcript-r...</td>\n",
       "      <td>MSNBC</td>\n",
       "      <td>Transcript: The ReidOut, August 10, 2020</td>\n",
       "      <td>transcript-reidout-august-10-2020-n1259400</td>\n",
       "      <td>NaN</td>\n",
       "      <td>2020</td>\n",
       "      <td>8</td>\n",
       "      <td>10</td>\n",
       "      <td>00:00</td>\n",
       "      <td>UTC</td>\n",
       "      <td>NaN</td>\n",
       "      <td>7620</td>\n",
       "      <td>NaN</td>\n",
       "      <td>NaN</td>\n",
       "      <td>SummarySecret Service escorts President Trump ...</td>\n",
       "    </tr>\n",
       "    <tr>\n",
       "      <th>3</th>\n",
       "      <td>Aug 11 2020</td>\n",
       "      <td>All In with Chris Hayes</td>\n",
       "      <td>Transcript: All In with Chris Hayes, August 10...</td>\n",
       "      <td>Guests: Hakeem Jeffries, Sara Nelson, Tom Pere...</td>\n",
       "      <td>https://www.msnbc.com/transcripts/transcript-a...</td>\n",
       "      <td>MSNBC</td>\n",
       "      <td>Transcript: All In with Chris Hayes, August 10...</td>\n",
       "      <td>transcript-all-chris-hayes-august-10-2020-n125...</td>\n",
       "      <td>NaN</td>\n",
       "      <td>2020</td>\n",
       "      <td>8</td>\n",
       "      <td>10</td>\n",
       "      <td>00:00</td>\n",
       "      <td>UTC</td>\n",
       "      <td>NaN</td>\n",
       "      <td>8532</td>\n",
       "      <td>NaN</td>\n",
       "      <td>NaN</td>\n",
       "      <td>SummaryThe Republicans are stalling on economi...</td>\n",
       "    </tr>\n",
       "    <tr>\n",
       "      <th>4</th>\n",
       "      <td>Aug 11 2020</td>\n",
       "      <td>The Rachel Maddow Show</td>\n",
       "      <td>Transcript: The Rachel Maddow Show, August 10,...</td>\n",
       "      <td>Guests: Robert Draper, Marc Elias</td>\n",
       "      <td>https://www.msnbc.com/transcripts/transcript-r...</td>\n",
       "      <td>MSNBC</td>\n",
       "      <td>Transcript: The Rachel Maddow Show, August 10,...</td>\n",
       "      <td>transcript-rachel-maddow-show-august-10-2020-n...</td>\n",
       "      <td>NaN</td>\n",
       "      <td>2020</td>\n",
       "      <td>8</td>\n",
       "      <td>10</td>\n",
       "      <td>00:00</td>\n",
       "      <td>UTC</td>\n",
       "      <td>NaN</td>\n",
       "      <td>7613</td>\n",
       "      <td>NaN</td>\n",
       "      <td>NaN</td>\n",
       "      <td>SummaryA \"New York Times Magazine\" report reve...</td>\n",
       "    </tr>\n",
       "  </tbody>\n",
       "</table>\n",
       "</div>"
      ],
      "text/plain": [
       "      air_date                 show_name  \\\n",
       "0  Apr 30 2017              Unnamed Show   \n",
       "1  Aug 10 2020  The Beat with Ari Melber   \n",
       "2  Aug 10 2020               The ReidOut   \n",
       "3  Aug 11 2020   All In with Chris Hayes   \n",
       "4  Aug 11 2020    The Rachel Maddow Show   \n",
       "\n",
       "                                            headline  \\\n",
       "0                    Meet the Press - April 30, 2017   \n",
       "1  Transcript: The Beat with Ari Melber, August 1...   \n",
       "2           Transcript: The ReidOut, August 10, 2020   \n",
       "3  Transcript: All In with Chris Hayes, August 10...   \n",
       "4  Transcript: The Rachel Maddow Show, August 10,...   \n",
       "\n",
       "                                              guests  \\\n",
       "0  Vice President Mike Pence, Sen. Susan Collins,...   \n",
       "1                    Guests: Adam Schiff, David Frum   \n",
       "2  Guests: Philip Rucker, Nancy Pelosi, Sherrod B...   \n",
       "3  Guests: Hakeem Jeffries, Sara Nelson, Tom Pere...   \n",
       "4                  Guests: Robert Draper, Marc Elias   \n",
       "\n",
       "                                                 url channel.name  \\\n",
       "0  https://www.nbcnews.com/meet-the-press/meet-pr...        MSNBC   \n",
       "1  https://www.msnbc.com/transcripts/transcript-b...        MSNBC   \n",
       "2  https://www.msnbc.com/transcripts/transcript-r...        MSNBC   \n",
       "3  https://www.msnbc.com/transcripts/transcript-a...        MSNBC   \n",
       "4  https://www.msnbc.com/transcripts/transcript-r...        MSNBC   \n",
       "\n",
       "                                        program.name  \\\n",
       "0                    Meet the Press - April 30, 2017   \n",
       "1  Transcript: The Beat with Ari Melber, August 1...   \n",
       "2           Transcript: The ReidOut, August 10, 2020   \n",
       "3  Transcript: All In with Chris Hayes, August 10...   \n",
       "4  Transcript: The Rachel Maddow Show, August 10,...   \n",
       "\n",
       "                                                 uid  duration  year  month  \\\n",
       "0                   meet-press-april-30-2017-n753011       NaN  2017      4   \n",
       "1  transcript-beat-ari-melber-august-10-2020-n125...       NaN  2020      8   \n",
       "2         transcript-reidout-august-10-2020-n1259400       NaN  2020      8   \n",
       "3  transcript-all-chris-hayes-august-10-2020-n125...       NaN  2020      8   \n",
       "4  transcript-rachel-maddow-show-august-10-2020-n...       NaN  2020      8   \n",
       "\n",
       "   date   time timezone  path  wordcount  subhead  summary  \\\n",
       "0    30  00:00      UTC   NaN       8974      NaN      NaN   \n",
       "1    10  00:00      UTC   NaN      10438      NaN      NaN   \n",
       "2    10  00:00      UTC   NaN       7620      NaN      NaN   \n",
       "3    10  00:00      UTC   NaN       8532      NaN      NaN   \n",
       "4    10  00:00      UTC   NaN       7613      NaN      NaN   \n",
       "\n",
       "                                                text  \n",
       "0  NBC News - Meet The Press\"04.30.17\"(BEGIN TAPE...  \n",
       "1  SummaryPresident Trump is escorted from a pres...  \n",
       "2  SummarySecret Service escorts President Trump ...  \n",
       "3  SummaryThe Republicans are stalling on economi...  \n",
       "4  SummaryA \"New York Times Magazine\" report reve...  "
      ]
     },
     "execution_count": 7,
     "metadata": {},
     "output_type": "execute_result"
    }
   ],
   "source": [
    "df = pd.read_csv(\"msnbc_transcripts.csv\")\n",
    "df.head()"
   ]
  },
  {
   "cell_type": "code",
   "execution_count": 8,
   "id": "df3a6a8d-657a-412a-b8c3-08543bb1b4a1",
   "metadata": {},
   "outputs": [
    {
     "data": {
      "text/plain": [
       "(3451, 19)"
      ]
     },
     "execution_count": 8,
     "metadata": {},
     "output_type": "execute_result"
    }
   ],
   "source": [
    "df.shape"
   ]
  },
  {
   "cell_type": "code",
   "execution_count": 11,
   "id": "218ddca7-e5c7-4a0e-ab16-3cb35a4acee4",
   "metadata": {},
   "outputs": [],
   "source": [
    "df['date_column'] = pd.to_datetime(df['air_date'])\n",
    "df['year'] = df['date_column'].dt.year"
   ]
  },
  {
   "cell_type": "code",
   "execution_count": 10,
   "id": "71e39231-c08c-408e-b0a6-b9cb6a3a6b67",
   "metadata": {},
   "outputs": [
    {
     "name": "stdout",
     "output_type": "stream",
     "text": [
      "Date range: Apr 30 2017 to Mar 16 2025\n",
      "Total time span: 2877 days\n"
     ]
    }
   ],
   "source": [
    "min_date = df['date_column'].min()\n",
    "max_date = df['date_column'].max()\n",
    "\n",
    "# Display the range\n",
    "print(f\"Date range: {min_date.strftime('%b %d %Y')} to {max_date.strftime('%b %d %Y')}\")\n",
    "print(f\"Total time span: {(max_date - min_date).days} days\")"
   ]
  },
  {
   "cell_type": "code",
   "execution_count": 12,
   "id": "5d84e61e-2cc1-437c-94ad-f4a1e9e7558e",
   "metadata": {},
   "outputs": [
    {
     "data": {
      "text/plain": [
       "year\n",
       "2017       2\n",
       "2020     703\n",
       "2021    1479\n",
       "2022    1156\n",
       "2023      52\n",
       "2024      48\n",
       "2025      11\n",
       "dtype: int64"
      ]
     },
     "execution_count": 12,
     "metadata": {},
     "output_type": "execute_result"
    }
   ],
   "source": [
    "df.groupby('year').size()"
   ]
  },
  {
   "cell_type": "code",
   "execution_count": 13,
   "id": "6752161f-8283-47db-bd65-f086c1ca5b51",
   "metadata": {},
   "outputs": [],
   "source": [
    "df.to_csv(\"msnbc_transcripts_2022.csv.gz\", index=False, compression='gzip')"
   ]
  },
  {
   "cell_type": "code",
   "execution_count": null,
   "id": "5cab2158-77fc-46cb-bfaf-c38fa1603cdf",
   "metadata": {},
   "outputs": [],
   "source": []
  }
 ],
 "metadata": {
  "kernelspec": {
   "display_name": "Python 3.11 (Data Science)",
   "language": "python",
   "name": "py311ds"
  },
  "language_info": {
   "codemirror_mode": {
    "name": "ipython",
    "version": 3
   },
   "file_extension": ".py",
   "mimetype": "text/x-python",
   "name": "python",
   "nbconvert_exporter": "python",
   "pygments_lexer": "ipython3",
   "version": "3.11.11"
  }
 },
 "nbformat": 4,
 "nbformat_minor": 5
}
