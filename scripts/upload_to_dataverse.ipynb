{
 "cells": [
  {
   "cell_type": "code",
   "execution_count": 3,
   "id": "594ecdc8",
   "metadata": {},
   "outputs": [
    {
     "name": "stdout",
     "output_type": "stream",
     "text": [
      "Upload successful!\n"
     ]
    }
   ],
   "source": [
    "import os\n",
    "import requests\n",
    "\n",
    "# Upload to Dataverse\n",
    "api_key = \"\"\n",
    "dataset_pid = \"doi:10.7910/DVN/UPJDE1\"\n",
    "description = f\"CNN-8 (3451 rows)\"\n",
    "\n",
    "compressed_file = \"msnbc_transcripts_2022.csv.gz\"\n",
    "\n",
    "url = f\"https://dataverse.harvard.edu/api/datasets/:persistentId/add?persistentId={dataset_pid}\"\n",
    "files = {'file': (os.path.basename(compressed_file), open(compressed_file, 'rb'))}\n",
    "headers = {\"X-Dataverse-key\": api_key}\n",
    "\n",
    "response = requests.post(url, headers=headers, files=files, data={'description': description})\n",
    "if response.status_code == 200:\n",
    "    print(\"Upload successful!\")\n",
    "else:\n",
    "    print(f\"Error: {response.status_code}\")\n",
    "    print(response.text)"
   ]
  },
  {
   "cell_type": "code",
   "execution_count": null,
   "id": "c481e017",
   "metadata": {},
   "outputs": [],
   "source": []
  }
 ],
 "metadata": {
  "kernelspec": {
   "display_name": "Python 3 (ipykernel)",
   "language": "python",
   "name": "python3"
  },
  "language_info": {
   "codemirror_mode": {
    "name": "ipython",
    "version": 3
   },
   "file_extension": ".py",
   "mimetype": "text/x-python",
   "name": "python",
   "nbconvert_exporter": "python",
   "pygments_lexer": "ipython3",
   "version": "3.9.13"
  }
 },
 "nbformat": 4,
 "nbformat_minor": 5
}
